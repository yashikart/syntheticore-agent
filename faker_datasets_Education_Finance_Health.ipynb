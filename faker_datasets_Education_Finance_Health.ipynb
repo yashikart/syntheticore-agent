{
  "nbformat": 4,
  "nbformat_minor": 0,
  "metadata": {
    "colab": {
      "provenance": [],
      "authorship_tag": "ABX9TyM7QzsEx1D8lWmPPAMtkQQ2",
      "include_colab_link": true
    },
    "kernelspec": {
      "name": "python3",
      "display_name": "Python 3"
    },
    "language_info": {
      "name": "python"
    }
  },
  "cells": [
    {
      "cell_type": "markdown",
      "metadata": {
        "id": "view-in-github",
        "colab_type": "text"
      },
      "source": [
        "<a href=\"https://colab.research.google.com/github/yashikart/syntheticore-agent/blob/main/faker_datasets_Education_Finance_Health.ipynb\" target=\"_parent\"><img src=\"https://colab.research.google.com/assets/colab-badge.svg\" alt=\"Open In Colab\"/></a>"
      ]
    },
    {
      "cell_type": "code",
      "source": [
        "!pip install faker pandas numpy scikit-learn\n",
        "!pip install openai transformers stable-baselines3\n",
        "!pip install openai\n",
        "!pip install langchain openai"
      ],
      "metadata": {
        "id": "hWF4Fl8axvC1"
      },
      "execution_count": null,
      "outputs": []
    },
    {
      "cell_type": "code",
      "source": [],
      "metadata": {
        "id": "YD9DW1yTTijV"
      },
      "execution_count": null,
      "outputs": []
    },
    {
      "cell_type": "code",
      "execution_count": 29,
      "metadata": {
        "id": "977EKkeWRkE-"
      },
      "outputs": [],
      "source": [
        "from faker import Faker\n",
        "import pandas as pd\n",
        "import numpy as np\n",
        "import random\n",
        "from datetime import datetime, timedelta\n"
      ]
    },
    {
      "cell_type": "code",
      "source": [
        "fake = Faker()\n",
        "Faker.seed(42)\n"
      ],
      "metadata": {
        "id": "DkWtkPQeTDGh"
      },
      "execution_count": 30,
      "outputs": []
    },
    {
      "cell_type": "code",
      "source": [
        "\n",
        "def generate_finance_data(n=90):\n",
        "    data = []\n",
        "    categories = ['Low', 'Medium', 'High']\n",
        "    per_category = n // len(categories)\n",
        "\n",
        "    # Define income ranges per category\n",
        "    income_ranges = {\n",
        "        \"Low\": (30000, 49999),\n",
        "        \"Medium\": (50000, 79999),\n",
        "        \"High\": (80000, 100000)\n",
        "    }\n",
        "\n",
        "    # Loop through each category\n",
        "    for category in categories:\n",
        "        for _ in range(per_category):\n",
        "            name = fake.name()\n",
        "            region = fake.city()\n",
        "            income = round(random.uniform(*income_ranges[category]), 2)\n",
        "\n",
        "            # Expense: 30–90% of income\n",
        "            expense = round(random.uniform(income * 0.3, income * 0.9), 2)\n",
        "            surplus = income - expense\n",
        "\n",
        "            # Savings Goal: 50–100% of surplus\n",
        "            savings_goal = round(random.uniform(surplus * 0.5, surplus), 2)\n",
        "\n",
        "            # Derived fields\n",
        "            savings_pct = round((surplus / income) * 100, 2)\n",
        "\n",
        "            # Label (simple logic)\n",
        "            if savings_pct > 20:\n",
        "                label = \"Good Saver\"\n",
        "            else:\n",
        "                label = \"Over-Spender\"\n",
        "\n",
        "            entry = {\n",
        "                \"Name\": name,\n",
        "                \"Region\": region,\n",
        "                \"Income\": income,\n",
        "                \"Expense\": expense,\n",
        "                \"Savings Goal\": savings_goal,\n",
        "                \"Savings (%)\": savings_pct,\n",
        "                \"Income Category\": category,\n",
        "                \"Label\": label,\n",
        "                \"Timestamp\": fake.date_time_this_year()\n",
        "            }\n",
        "            data.append(entry)\n",
        "\n",
        "    # If n is not divisible by 3, fill remaining randomly\n",
        "    remaining = n - per_category * len(categories)\n",
        "    for _ in range(remaining):\n",
        "        category = random.choice(categories)\n",
        "        income = round(random.uniform(*income_ranges[category]), 2)\n",
        "        name = fake.name()\n",
        "        region = fake.city()\n",
        "        expense = round(random.uniform(income * 0.3, income * 0.9), 2)\n",
        "        surplus = income - expense\n",
        "        savings_goal = round(random.uniform(surplus * 0.5, surplus), 2)\n",
        "        savings_pct = round((surplus / income) * 100, 2)\n",
        "        label = \"Good Saver\" if savings_pct > 20 else \"Over-Spender\"\n",
        "\n",
        "        entry = {\n",
        "            \"Name\": name,\n",
        "            \"Region\": region,\n",
        "            \"Income\": income,\n",
        "            \"Expense\": expense,\n",
        "            \"Savings Goal\": savings_goal,\n",
        "            \"Savings (%)\": savings_pct,\n",
        "            \"Income Category\": category,\n",
        "            \"Label\": label,\n",
        "            \"Timestamp\": fake.date_time_this_year()\n",
        "        }\n",
        "        data.append(entry)\n",
        "\n",
        "    random.shuffle(data)\n",
        "    return pd.DataFrame(data)\n",
        "\n",
        "# Generate and check counts\n",
        "finance_df = generate_finance_data(90)\n",
        "print(finance_df[\"Income Category\"].value_counts())\n",
        "print(finance_df.head())"
      ],
      "metadata": {
        "colab": {
          "base_uri": "https://localhost:8080/"
        },
        "id": "WVNjxG00TGUP",
        "outputId": "0c49235e-7c57-4334-e57c-82dc806135cd"
      },
      "execution_count": 44,
      "outputs": [
        {
          "output_type": "stream",
          "name": "stdout",
          "text": [
            "Income Category\n",
            "High      30\n",
            "Low       30\n",
            "Medium    30\n",
            "Name: count, dtype: int64\n",
            "             Name             Region    Income   Expense  Savings Goal  \\\n",
            "0  Jennifer Costa   Lake Jessicaport  90376.75  37948.98      50872.33   \n",
            "1   Brandy Porter  New Savannahshire  42458.24  17800.80      16170.25   \n",
            "2     Tiffany Cox  Port Jeffreymouth  36673.45  16152.42      10859.25   \n",
            "3  James Guerrero          Moorebury  53727.15  38947.33      14175.29   \n",
            "4     Victor Hill        South Sarah  87690.42  72182.58      14494.75   \n",
            "\n",
            "   Savings (%) Income Category         Label                  Timestamp  \n",
            "0        58.01            High    Good Saver 2025-06-27 21:56:04.865403  \n",
            "1        58.07             Low    Good Saver 2025-04-01 16:54:41.785719  \n",
            "2        55.96             Low    Good Saver 2025-03-04 08:25:56.823331  \n",
            "3        27.51          Medium    Good Saver 2025-01-26 14:45:59.333130  \n",
            "4        17.68            High  Over-Spender 2025-04-18 23:30:21.857169  \n"
          ]
        }
      ]
    },
    {
      "cell_type": "code",
      "source": [
        "def generate_student_subject_scores_balanced(n=9):\n",
        "    subjects = ['Math', 'Science', 'English', 'History', 'Geography']\n",
        "    progress_categories = ['Improving', 'Stable', 'Declining']\n",
        "    per_category = n // len(progress_categories)\n",
        "\n",
        "    data = []\n",
        "\n",
        "    # Define score ranges for each progress category\n",
        "    score_ranges = {\n",
        "        'Improving': (85, 100),\n",
        "        'Stable': (60, 84),\n",
        "        'Declining': (40, 59)\n",
        "    }\n",
        "\n",
        "    for progress in progress_categories:\n",
        "        for _ in range(per_category):\n",
        "            student_id = fake.uuid4()\n",
        "            name = fake.name()\n",
        "\n",
        "            # Generate scores within range for this progress level\n",
        "            min_score, max_score = score_ranges[progress]\n",
        "            scores = {subject: random.randint(min_score, max_score) for subject in subjects}\n",
        "\n",
        "            entry = {\n",
        "                \"Student ID\": student_id,\n",
        "                \"Name\": name,\n",
        "                **scores,\n",
        "                \"Progress\": progress,\n",
        "                \"Timestamp\": fake.date_time_this_year()\n",
        "            }\n",
        "            data.append(entry)\n",
        "\n",
        "    # If n is not divisible by 3, add remaining randomly\n",
        "    remaining = n - per_category * len(progress_categories)\n",
        "    for _ in range(remaining):\n",
        "        progress = random.choice(progress_categories)\n",
        "        min_score, max_score = score_ranges[progress]\n",
        "        student_id = fake.uuid4()\n",
        "        name = fake.name()\n",
        "        scores = {subject: random.randint(min_score, max_score) for subject in subjects}\n",
        "\n",
        "        entry = {\n",
        "            \"Student ID\": student_id,\n",
        "            \"Name\": name,\n",
        "            **scores,\n",
        "            \"Progress\": progress,\n",
        "            \"Timestamp\": fake.date_time_this_year()\n",
        "        }\n",
        "        data.append(entry)\n",
        "\n",
        "    random.shuffle(data)  # Shuffle for natural mix\n",
        "    return pd.DataFrame(data)\n",
        "\n",
        "df = generate_student_subject_scores_balanced(9)\n",
        "print(df[\"Progress\"].value_counts())\n",
        "print(df.head())\n"
      ],
      "metadata": {
        "colab": {
          "base_uri": "https://localhost:8080/"
        },
        "id": "IUW-hrN_TMuY",
        "outputId": "fa950274-2d75-4a4c-e181-69968adb636e"
      },
      "execution_count": 45,
      "outputs": [
        {
          "output_type": "stream",
          "name": "stdout",
          "text": [
            "Progress\n",
            "Improving    3\n",
            "Declining    3\n",
            "Stable       3\n",
            "Name: count, dtype: int64\n",
            "                             Student ID               Name  Math  Science  \\\n",
            "0  8198d1f5-6839-498f-accf-147242d7f112  Benjamin Phillips    95       92   \n",
            "1  2db13deb-ee6f-4bea-8df7-164713769ff9     Hayden Shannon    42       56   \n",
            "2  ee25356a-aee0-4ec9-bf04-18a9f2765513   Kathryn Gonzalez    54       49   \n",
            "3  7bcf2b31-902b-4154-a088-5550f74f6900           Nina Ali    90       98   \n",
            "4  dcad8ec2-963a-4333-a582-95dc75f1c654        Brian Jones    77       73   \n",
            "\n",
            "   English  History  Geography   Progress                  Timestamp  \n",
            "0       85       97         99  Improving 2025-06-27 20:51:39.910542  \n",
            "1       59       41         56  Declining 2025-02-20 12:54:45.918533  \n",
            "2       51       50         53  Declining 2025-05-19 03:05:35.479764  \n",
            "3       96       90         92  Improving 2025-03-28 04:21:02.915977  \n",
            "4       82       62         78     Stable 2025-04-30 00:21:24.958147  \n"
          ]
        }
      ]
    },
    {
      "cell_type": "code",
      "source": [
        "def generate_health_data(n=100):\n",
        "    diagnosis_symptom_map = {\n",
        "        'Cold': ['Cough', 'Sneezing', 'Runny Nose', 'Fever'],\n",
        "        'Flu': ['Fever', 'Fatigue', 'Cough', 'Body Ache', 'Headache'],\n",
        "        'Migraine': ['Headache', 'Nausea', 'Sensitivity to Light', 'Blurred Vision'],\n",
        "        'COVID-19': ['Fever', 'Cough', 'Fatigue', 'Loss of Smell', 'Shortness of Breath'],\n",
        "        'Gastritis': ['Nausea', 'Vomiting', 'Stomach Pain', 'Loss of Appetite'],\n",
        "        'Asthma': ['Shortness of Breath', 'Wheezing', 'Chest Tightness', 'Cough'],\n",
        "        'Diabetes': ['Frequent Urination', 'Fatigue', 'Blurred Vision', 'Increased Thirst'],\n",
        "        'Hypertension': ['Headache', 'Dizziness', 'Nosebleeds', 'Fatigue'],\n",
        "        'Anemia': ['Fatigue', 'Pale Skin', 'Shortness of Breath', 'Dizziness'],\n",
        "        'Depression': ['Fatigue', 'Sadness', 'Loss of Interest', 'Sleep Disturbance'],\n",
        "        'Appendicitis': ['Abdominal Pain', 'Nausea', 'Fever', 'Loss of Appetite'],\n",
        "        'UTI': ['Burning Sensation', 'Frequent Urination', 'Pelvic Pain', 'Cloudy Urine'],\n",
        "        'Allergy': ['Sneezing', 'Runny Nose', 'Itchy Eyes', 'Cough'],\n",
        "        'Chickenpox': ['Fever', 'Rash', 'Itchy Skin', 'Fatigue'],\n",
        "        'Dengue': ['High Fever', 'Headache', 'Joint Pain', 'Skin Rash']\n",
        "    }\n",
        "\n",
        "    data = []\n",
        "\n",
        "    for _ in range(n):\n",
        "        patient_id = fake.uuid4()\n",
        "        name = fake.name()\n",
        "        gender = random.choice(['Male', 'Female', 'Other'])\n",
        "        age = random.randint(1, 90)\n",
        "        city = fake.city()\n",
        "\n",
        "        diagnosis = random.choice(list(diagnosis_symptom_map.keys()))\n",
        "        possible_symptoms = diagnosis_symptom_map[diagnosis]\n",
        "        num_symptoms = random.randint(3, min(4, len(possible_symptoms)))\n",
        "        symptoms = random.sample(possible_symptoms, k=num_symptoms)\n",
        "\n",
        "        # Severity logic based on symptom count\n",
        "        if num_symptoms == 3:\n",
        "            severity = \"Moderate\"\n",
        "        else:\n",
        "            severity = \"Severe\" if diagnosis in ['COVID-19', 'Dengue', 'Appendicitis'] else \"Mild\"\n",
        "\n",
        "        # Risk logic\n",
        "        high_risk = age > 60 or severity == \"Severe\"\n",
        "\n",
        "        # Label logic\n",
        "        if severity == \"Severe\" or high_risk:\n",
        "            label = \"Needs Hospitalization\"\n",
        "        else:\n",
        "            label = \"Home Care\"\n",
        "\n",
        "        entry = {\n",
        "            \"Patient ID\": patient_id,\n",
        "            \"Name\": name,\n",
        "            \"Gender\": gender,\n",
        "            \"Age\": age,\n",
        "            \"Region\": city,\n",
        "            \"Symptoms\": \", \".join(symptoms),\n",
        "            \"Diagnosis\": diagnosis,\n",
        "            \"Severity\": severity,\n",
        "            \"High Risk\": high_risk,\n",
        "            \"Recommended Care\": label,\n",
        "            \"Timestamp\": fake.date_time_this_year()\n",
        "        }\n",
        "        data.append(entry)\n",
        "\n",
        "    return pd.DataFrame(data)\n",
        "\n",
        "# Generate and view sample\n",
        "df = generate_health_data(5)\n",
        "print(df.head())"
      ],
      "metadata": {
        "colab": {
          "base_uri": "https://localhost:8080/"
        },
        "id": "_KpOS1puTPTN",
        "outputId": "167b8df5-d46a-4ec3-c6f4-1c3ef9f8012d"
      },
      "execution_count": 46,
      "outputs": [
        {
          "output_type": "stream",
          "name": "stdout",
          "text": [
            "                             Patient ID              Name  Gender  Age  \\\n",
            "0  1417c2f9-eb91-431a-9eb0-5b4a1b4ffd5f       Mary Austin  Female    1   \n",
            "1  9313b3a7-e5a1-46e4-a188-6146fc40a3d4   Katherine Joyce    Male   34   \n",
            "2  7a732f35-6c55-40f0-8c9c-f41c86969901       Amanda Reed  Female   35   \n",
            "3  0227b8d5-b070-4a53-90ce-857f75c72fb6  Daniel Carpenter    Male   37   \n",
            "4  78aa16ea-44f7-401a-bcb5-26d7434a130e       Grace White    Male   16   \n",
            "\n",
            "              Region                                           Symptoms  \\\n",
            "0  Port Timothymouth           Dizziness, Nosebleeds, Fatigue, Headache   \n",
            "1       Raymondshire                      Headache, Nosebleeds, Fatigue   \n",
            "2      South Tiffany          Loss of Smell, Cough, Shortness of Breath   \n",
            "3        Michaelview                    Headache, High Fever, Skin Rash   \n",
            "4          Clarkstad  Loss of Interest, Sleep Disturbance, Sadness, ...   \n",
            "\n",
            "      Diagnosis  Severity  High Risk Recommended Care  \\\n",
            "0  Hypertension      Mild      False        Home Care   \n",
            "1  Hypertension  Moderate      False        Home Care   \n",
            "2      COVID-19  Moderate      False        Home Care   \n",
            "3        Dengue  Moderate      False        Home Care   \n",
            "4    Depression      Mild      False        Home Care   \n",
            "\n",
            "                   Timestamp  \n",
            "0 2025-04-03 11:20:49.430665  \n",
            "1 2025-01-25 02:06:02.197925  \n",
            "2 2025-05-12 03:30:41.630118  \n",
            "3 2025-02-05 03:38:10.738462  \n",
            "4 2025-03-10 13:40:48.322552  \n"
          ]
        }
      ]
    }
  ]
}